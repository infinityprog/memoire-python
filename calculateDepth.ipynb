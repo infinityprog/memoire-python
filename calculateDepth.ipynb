{
 "cells": [
  {
   "cell_type": "code",
   "execution_count": 1,
   "id": "814fba36-33b8-4a74-867d-12f0e8d4ab4f",
   "metadata": {},
   "outputs": [
    {
     "name": "stdout",
     "output_type": "stream",
     "text": [
      "pygame 2.1.2 (SDL 2.0.18, Python 3.9.12)\n",
      "Hello from the pygame community. https://www.pygame.org/contribute.html\n"
     ]
    },
    {
     "name": "stderr",
     "output_type": "stream",
     "text": [
      "C:\\Users\\hugo2\\anaconda3\\envs\\memoire\\lib\\site-packages\\tqdm\\auto.py:22: TqdmWarning: IProgress not found. Please update jupyter and ipywidgets. See https://ipywidgets.readthedocs.io/en/stable/user_install.html\n",
      "  from .autonotebook import tqdm as notebook_tqdm\n",
      "Using cache found in C:\\Users\\hugo2/.cache\\torch\\hub\\intel-isl_MiDaS_master\n"
     ]
    },
    {
     "name": "stdout",
     "output_type": "stream",
     "text": [
      "Loading weights:  None\n"
     ]
    },
    {
     "name": "stderr",
     "output_type": "stream",
     "text": [
      "Using cache found in C:\\Users\\hugo2/.cache\\torch\\hub\\rwightman_gen-efficientnet-pytorch_master\n",
      "Using cache found in C:\\Users\\hugo2/.cache\\torch\\hub\\intel-isl_MiDaS_master\n",
      "Using cache found in C:\\Users\\hugo2/.cache\\torch\\hub\\ultralytics_yolov5_master\n",
      "YOLOv5  2022-4-19 torch 1.11.0 CUDA:0 (NVIDIA GeForce RTX 2060 SUPER, 8192MiB)\n",
      "\n",
      "Fusing layers... \n",
      "YOLOv5l summary: 367 layers, 46533693 parameters, 0 gradients\n",
      "Adding AutoShape... \n"
     ]
    }
   ],
   "source": [
    "import cv2\n",
    "import matplotlib.pyplot as plt\n",
    "from work.DepthCalculation import DepthCalculation, Status\n",
    "from work.DepthEstimation import depthEstimation\n",
    "from work.Yolo import findObject, Object, jsonToObject\n",
    "from work.util import crop\n",
    "import numpy as np\n",
    "%matplotlib inline"
   ]
  },
  {
   "cell_type": "code",
   "execution_count": 2,
   "id": "f07611b3-608e-42b5-8e1c-c75840ac5cf1",
   "metadata": {},
   "outputs": [],
   "source": [
    "img = cv2.imread('middle.jpg')\n",
    "img = cv2.cvtColor(img, cv2.COLOR_BGR2RGB)"
   ]
  },
  {
   "cell_type": "code",
   "execution_count": 3,
   "id": "dfe9b131-4503-4858-9993-accd2cb3a6a0",
   "metadata": {},
   "outputs": [],
   "source": [
    "result = findObject(img)"
   ]
  },
  {
   "cell_type": "code",
   "execution_count": 4,
   "id": "a273f3a7-fe69-4e5d-ad00-d3a58d60da39",
   "metadata": {},
   "outputs": [],
   "source": [
    "objects = jsonToObject(result)"
   ]
  },
  {
   "cell_type": "code",
   "execution_count": 5,
   "id": "9e8104df-d529-4074-8845-1a70d6174417",
   "metadata": {},
   "outputs": [],
   "source": [
    "output = depthEstimation(img)"
   ]
  },
  {
   "cell_type": "code",
   "execution_count": 6,
   "id": "87947d86-2ff7-4b8e-909d-fffc920d930a",
   "metadata": {},
   "outputs": [
    {
     "name": "stdout",
     "output_type": "stream",
     "text": [
      "1072.3461\n"
     ]
    }
   ],
   "source": [
    "print(np.amax(output))"
   ]
  },
  {
   "cell_type": "code",
   "execution_count": 7,
   "id": "383796d4-a1f4-4c33-bca3-063087398348",
   "metadata": {},
   "outputs": [],
   "source": [
    "object = Object(**objects[0])"
   ]
  },
  {
   "cell_type": "code",
   "execution_count": 8,
   "id": "af034a13-f0b5-48e3-93cb-843d0e7ef0b9",
   "metadata": {},
   "outputs": [],
   "source": [
    "output = crop(output, object)"
   ]
  },
  {
   "cell_type": "code",
   "execution_count": 9,
   "id": "f7f88efe-e23a-4b16-add6-5571b7db0529",
   "metadata": {},
   "outputs": [
    {
     "data": {
      "text/plain": [
       "<matplotlib.image.AxesImage at 0x1e2904983a0>"
      ]
     },
     "execution_count": 9,
     "metadata": {},
     "output_type": "execute_result"
    },
    {
     "data": {
      "image/png": "[encoded data removed]",
      "text/plain": [
       "<Figure size 432x288 with 1 Axes>"
      ]
     },
     "metadata": {
      "needs_background": "light"
     },
     "output_type": "display_data"
    }
   ],
   "source": [
    "plt.imshow(output)"
   ]
  },
  {
   "cell_type": "code",
   "execution_count": 10,
   "id": "061ac464-6c8e-4441-bb55-8d3a3684a289",
   "metadata": {},
   "outputs": [
    {
     "name": "stdout",
     "output_type": "stream",
     "text": [
      "(2138, 1177)\n"
     ]
    }
   ],
   "source": [
    "index = np.unravel_index(np.argmax(output), output.shape)\n",
    "print(index)"
   ]
  },
  {
   "cell_type": "code",
   "execution_count": 11,
   "id": "c8a82518-b47b-4871-8759-b958ae361585",
   "metadata": {},
   "outputs": [
    {
     "name": "stdout",
     "output_type": "stream",
     "text": [
      "415.8907\n"
     ]
    }
   ],
   "source": [
    "print(output[1100, 500])"
   ]
  },
  {
   "cell_type": "code",
   "execution_count": 12,
   "id": "6e972ac1-59ae-46de-bbed-ab8d6ce1734c",
   "metadata": {},
   "outputs": [
    {
     "data": {
      "text/plain": [
       "559.2004"
      ]
     },
     "execution_count": 12,
     "metadata": {},
     "output_type": "execute_result"
    }
   ],
   "source": [
    "np.amax(output)"
   ]
  }
 ],
 "metadata": {
  "kernelspec": {
   "display_name": "Python 3 (ipykernel)",
   "language": "python",
   "name": "python3"
  },
  "language_info": {
   "codemirror_mode": {
    "name": "ipython",
    "version": 3
   },
   "file_extension": ".py",
   "mimetype": "text/x-python",
   "name": "python",
   "nbconvert_exporter": "python",
   "pygments_lexer": "ipython3",
   "version": "3.9.12"
  }
 },
 "nbformat": 4,
 "nbformat_minor": 5
}
