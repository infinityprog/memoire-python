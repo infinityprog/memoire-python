{
 "cells": [
  {
   "cell_type": "code",
   "execution_count": 1,
   "id": "fba43a0b-38ca-4ddf-9933-b533dcc110aa",
   "metadata": {},
   "outputs": [
    {
     "name": "stderr",
     "output_type": "stream",
     "text": [
      "Using cache found in C:\\Users\\hugo2/.cache\\torch\\hub\\ultralytics_yolov5_master\n",
      "YOLOv5  2022-4-12 torch 1.11.0+cu113 CUDA:0 (NVIDIA GeForce RTX 2060 SUPER, 8192MiB)\n",
      "\n",
      "Fusing layers... \n",
      "YOLOv5s summary: 213 layers, 7225885 parameters, 0 gradients\n",
      "Adding AutoShape... \n"
     ]
    }
   ],
   "source": [
    "import torch\n",
    "import numpy as np\n",
    "\n",
    "# Model\n",
    "model = torch.hub.load('ultralytics/yolov5', 'yolov5s')  # or yolov5m, yolov5l, yolov5x, custom"
   ]
  },
  {
   "cell_type": "code",
   "execution_count": 2,
   "id": "9b1e6987-028b-4844-a7ea-252179574458",
   "metadata": {},
   "outputs": [],
   "source": [
    "\n",
    "\n",
    "# Images\n",
    "img = 'middle.jpg'  # or file, Path, PIL, OpenCV, numpy, list\n",
    "\n",
    "# Inference\n",
    "results = model(img)\n",
    "\n",
    "# Results\n",
    "results.show()"
   ]
  },
  {
   "cell_type": "code",
   "execution_count": 4,
   "id": "7227adb8-a232-4ccf-9e04-3e3761f5b7e1",
   "metadata": {},
   "outputs": [
    {
     "name": "stdout",
     "output_type": "stream",
     "text": [
      "         xmin        ymin         xmax        ymax  confidence  class    name\n",
      "0  742.974854   48.395508  1141.844482  720.000000    0.881052      0  person\n",
      "1  442.007629  437.522400   496.653992  709.973572    0.675213     27     tie\n",
      "2  123.024109  193.287354   715.661987  719.723877    0.665814      0  person\n",
      "3  982.803162  308.417389  1027.365845  419.987030    0.260075     27     tie\n"
     ]
    }
   ],
   "source": [
    "print(results.pandas().xyxy[0])"
   ]
  },
  {
   "cell_type": "code",
   "execution_count": 6,
   "id": "4eaa061f-6fc2-443c-885f-cdfe1de494be",
   "metadata": {},
   "outputs": [],
   "source": [
    "results.imgs"
   ]
  },
  {
   "cell_type": "code",
   "execution_count": null,
   "id": "9957218c-1400-4c56-a211-00f482202144",
   "metadata": {},
   "outputs": [],
   "source": []
  },
  {
   "cell_type": "code",
   "execution_count": null,
   "id": "a4fb641c-036f-4973-95ff-a8c4af3f0e86",
   "metadata": {},
   "outputs": [],
   "source": []
  }
 ],
 "metadata": {
  "kernelspec": {
   "display_name": "Python 3 (ipykernel)",
   "language": "python",
   "name": "python3"
  },
  "language_info": {
   "codemirror_mode": {
    "name": "ipython",
    "version": 3
   },
   "file_extension": ".py",
   "mimetype": "text/x-python",
   "name": "python",
   "nbconvert_exporter": "python",
   "pygments_lexer": "ipython3",
   "version": "3.9.7"
  }
 },
 "nbformat": 4,
 "nbformat_minor": 5
}
